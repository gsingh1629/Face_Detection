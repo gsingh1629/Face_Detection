{
 "cells": [
  {
   "cell_type": "code",
   "execution_count": 1,
   "id": "f1100a5c",
   "metadata": {},
   "outputs": [],
   "source": [
    "from imutils import paths\n",
    "import numpy as np\n",
    "import imutils\n",
    "import pickle\n",
    "import cv2\n",
    "import os\n",
    "\n",
    "detector = cv2.dnn.readNetFromCaffe('deploy.prototxt', 'res10_300x300_ssd_iter_140000.caffemodel')\n",
    "embedder = cv2.dnn.readNetFromTorch(\"openface_nn4.small2.v1.t7\")\n",
    "\n",
    "imagePaths = list(paths.list_images(\"dataset\"))\n",
    "knownEmbeddings = [] #feature vector 128-d\n",
    "knownNames = [] #Names of detected person\n",
    "total = 0 #total faces processed\n",
    "\n",
    "for (i, imagePath) in enumerate(imagePaths):\n",
    "    name=imagePath.split(os.path.sep)[-2]#names\n",
    "    image=cv2.imread(imagePath)\n",
    "    image=imutils.resize(image, width=600)\n",
    "    (h,w)=image.shape[:2]\n",
    "    imageBlob=cv2.dnn.blobFromImage(cv2.resize(image,(300,300)),1.0,(300,300),(104.0,177.0,123.0))\n",
    "    detector.setInput(imageBlob)\n",
    "    detections=detector.forward()\n",
    "    #[,frame,no. of detections,[class_id,class_score,conf,x,y,h,w]]\n",
    "    i=np.argmax(detections[0,0,:,2])\n",
    "    confidence=detections[0, 0, i, 2]\n",
    "    if confidence>0.5:\n",
    "        box = detections[0, 0, i, 3:7] * np.array([w, h, w, h])\n",
    "        (startX, startY, endX, endY) = box.astype(\"int\")\n",
    "        face = image[startY:endY, startX:endX]\n",
    "        (fH, fW) = face.shape[:2]\n",
    "        faceBlob = cv2.dnn.blobFromImage(face,1.0/255,(96,96),(0,0,0),swapRB=True,crop=False)\n",
    "        embedder.setInput(faceBlob)\n",
    "        vec = embedder.forward()\n",
    "        knownNames.append(name)\n",
    "        knownEmbeddings.append(vec.flatten())\n",
    "        total += 1\n",
    "data = {\"embeddings\": knownEmbeddings, \"names\": knownNames}\n",
    "#print(data)\n",
    "f = open(\"embeddings.pickle\", \"wb\")\n",
    "f.write(pickle.dumps(data))\n",
    "f.close()"
   ]
  },
  {
   "cell_type": "code",
   "execution_count": 2,
   "id": "c3d8635e",
   "metadata": {},
   "outputs": [],
   "source": [
    "from sklearn.preprocessing import LabelEncoder\n",
    "from sklearn.svm import SVC\n",
    "import argparse\n",
    "import pickle\n",
    "\n",
    "data = pickle.loads(open(\"embeddings.pickle\", \"rb\").read())\n",
    "\n",
    "le = LabelEncoder()\n",
    "labels = le.fit_transform(data[\"names\"])\n",
    "\n",
    "recognizer = SVC(kernel=\"linear\", probability=True)\n",
    "recognizer.fit(data[\"embeddings\"], labels)\n",
    "\n",
    "f = open(\"recognizer.pickle\", \"wb\")\n",
    "f.write(pickle.dumps(recognizer))\n",
    "f.close()\n",
    "# write the label encoder to disk\n",
    "f = open(\"le.pickle\", \"wb\")\n",
    "f.write(pickle.dumps(le))\n",
    "f.close()"
   ]
  },
  {
   "cell_type": "code",
   "execution_count": 7,
   "id": "25806b34",
   "metadata": {},
   "outputs": [
    {
     "data": {
      "text/plain": [
       "-1"
      ]
     },
     "execution_count": 7,
     "metadata": {},
     "output_type": "execute_result"
    }
   ],
   "source": [
    "import numpy as np\n",
    "import imutils\n",
    "import pickle\n",
    "import cv2\n",
    "import os\n",
    "\n",
    "detector = cv2.dnn.readNetFromCaffe('deploy.prototxt', 'res10_300x300_ssd_iter_140000.caffemodel')\n",
    "embedder = cv2.dnn.readNetFromTorch('openface_nn4.small2.v1.t7')\n",
    "\n",
    "recognizer = pickle.loads(open('recognizer.pickle', \"rb\").read())\n",
    "le = pickle.loads(open('le.pickle', \"rb\").read())\n",
    "path=os.getcwd()+\"\\\\test3.jpg\"\n",
    "image=cv2.imread(path)\n",
    "image = imutils.resize(image, width=600)\n",
    "(h, w) = image.shape[:2]\n",
    "imageBlob = cv2.dnn.blobFromImage(cv2.resize(image, (300, 300)), 1.0, (300, 300),(104.0, 177.0, 123.0), swapRB=False, crop=False)\n",
    "\n",
    "detector.setInput(imageBlob)\n",
    "detections = detector.forward()\n",
    "#[,frame,no. of detections,[class_id,class_score,conf,x,y,h,w]]\n",
    "\n",
    "for i in range(0, detections.shape[2]):\n",
    "    confidence = detections[0, 0, i, 2]\n",
    "    if confidence > 0.5:\n",
    "        box = detections[0, 0, i, 3:7] * np.array([w, h, w, h])#3:7 gives us the bounding box coord.\n",
    "        (startX,startY,endX,endY)=box.astype(\"int\")\n",
    "        face=image[startY:endY,startX:endX]#getting face\n",
    "        (fH, fW)=face.shape[:2]\n",
    "        if fW<20 or fH<20:\n",
    "            continue\n",
    "        faceBlob = cv2.dnn.blobFromImage(face, 1.0 / 255, (96, 96),(0, 0, 0), swapRB=True, crop=False)\n",
    "        embedder.setInput(faceBlob)\n",
    "        vec = embedder.forward()\n",
    "        # perform classification to recognize the face\n",
    "        preds = recognizer.predict_proba(vec)[0]#(3,)\n",
    "        #print(recognizer.predict_proba(vec))\n",
    "        j = np.argmax(preds)\n",
    "        proba = preds[j]\n",
    "        name = le.classes_[j]\n",
    "        text = str(name)+\" \"+str(format(proba*100,\".1f\"))\n",
    "        y = startY - 10 if startY - 10 > 10 else startY + 10\n",
    "        cv2.rectangle(image, (startX, startY), (endX, endY),(0, 0, 255), 2)\n",
    "        cv2.putText(image, text, (startX, y),cv2.FONT_HERSHEY_SIMPLEX, 0.45, (0, 0, 255), 2)\n",
    "cv2.imshow(\"Image\", image)\n",
    "cv2.waitKey(0)"
   ]
  },
  {
   "cell_type": "code",
   "execution_count": null,
   "id": "67318642",
   "metadata": {},
   "outputs": [],
   "source": []
  },
  {
   "cell_type": "code",
   "execution_count": null,
   "id": "74908139",
   "metadata": {},
   "outputs": [],
   "source": []
  }
 ],
 "metadata": {
  "kernelspec": {
   "display_name": "Python 3",
   "language": "python",
   "name": "python3"
  },
  "language_info": {
   "codemirror_mode": {
    "name": "ipython",
    "version": 3
   },
   "file_extension": ".py",
   "mimetype": "text/x-python",
   "name": "python",
   "nbconvert_exporter": "python",
   "pygments_lexer": "ipython3",
   "version": "3.7.10"
  }
 },
 "nbformat": 4,
 "nbformat_minor": 5
}
